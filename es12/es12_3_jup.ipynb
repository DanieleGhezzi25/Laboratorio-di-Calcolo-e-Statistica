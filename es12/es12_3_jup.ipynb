{
 "cells": [
  {
   "cell_type": "code",
   "execution_count": 1,
   "metadata": {},
   "outputs": [],
   "source": [
    "# Insert the source code of the previous exercise into a loop that performs the comparison as the number of events considered for \n",
    "# the fit varies, from 20 to 10000, with a regular log-scale increment.\n",
    "# 1) Use different plots to show the behavior of the parameters and their uncertainties as the number of events changes, \n",
    "#    for both types of estimators.\n",
    "# 2) Add to the comparison the fit performed with the least squares method.\n",
    "# 3) Which estimator is less biased at low statistics?"
   ]
  },
  {
   "cell_type": "code",
   "execution_count": 2,
   "metadata": {},
   "outputs": [],
   "source": [
    "import numpy as np\n",
    "import matplotlib.pyplot as plt\n",
    "from iminuit.cost import ExtendedBinnedNLL, UnbinnedNLL\n",
    "from iminuit import Minuit\n",
    "from IPython.display import display\n",
    "import scipy.stats as sci"
   ]
  },
  {
   "cell_type": "code",
   "execution_count": 3,
   "metadata": {},
   "outputs": [],
   "source": [
    "def model_function(x, mu, sigma):\n",
    "    return sci.norm.pdf(x,mu,sigma)\n",
    "\n",
    "def cdf_model_function(bin_edges, mu, sigma):\n",
    "    return sci.norm.cdf(bin_edges,mu,sigma)"
   ]
  },
  {
   "cell_type": "code",
   "execution_count": null,
   "metadata": {},
   "outputs": [],
   "source": [
    "true_mu = 0\n",
    "true_sigma = 1\n",
    "N = 100000\n",
    "data = np.random.normal(true_mu,true_sigma,N)"
   ]
  },
  {
   "cell_type": "code",
   "execution_count": null,
   "metadata": {},
   "outputs": [],
   "source": [
    "# BINNED FIT\n",
    "bin_content, bin_edges = np.histogram(data, int(np.ceil(1+3.322*np.log(N)))) # number of event per bin\n",
    "my_cost_binned_func = ExtendedBinnedNLL(bin_content, bin_edges, cdf_model_function)\n",
    "my_minuit_binned = Minuit(my_cost_binned_func, mu = np.mean(data), sigma = np.std(data))\n",
    "my_minuit_binned.limits[\"mu\",\"sigma\"]=(0,None)\n",
    "my_minuit_binned.migrad()\n",
    "print (f'Convergenza del fit: {my_minuit_binned.valid}')\n",
    "display(my_minuit_binned)\n",
    "\n",
    "print ('Associated binned p-value: ', 1. - sci.chi2.cdf (my_minuit_binned.fval, df = my_minuit_binned.ndof))\n",
    "\n",
    "# UNBINNED FIT\n",
    "my_cost_unbinned_func = UnbinnedNLL(data, model_function)\n",
    "my_minuit_unbinned = Minuit(my_cost_unbinned_func, mu = np.mean(data), sigma = np.std(data))\n",
    "my_minuit_unbinned.limits[\"mu\",\"sigma\"]=(0,None)\n",
    "my_minuit_unbinned.migrad()\n",
    "print (f'Convergenza del fit: {my_minuit_unbinned.valid}')\n",
    "display(my_minuit_unbinned)\n",
    "\n",
    "print ('Associated unbinned p-value: ', 1. - sci.chi2.cdf (my_minuit_unbinned.fval, df = my_minuit_unbinned.ndof))\n",
    "\n",
    "# ------------------------------------------------------------------------------------------------- #\n",
    "\n",
    "# PLOT\n",
    "x_coord = np.linspace(np.min(data), np.max(data), 10000)\n",
    "y_f_unb = []\n",
    "y_f = []\n",
    "for i in range(len(x_coord)):\n",
    "    y_f_unb.append(model_function(x_coord[i], my_minuit_unbinned.values[0], my_minuit_unbinned.values[1]))\n",
    "    y_f.append(model_function(x_coord[i], my_minuit_binned.values[0], my_minuit_binned.values[1]))\n",
    "\n",
    "fig, ax = plt.subplots(1,1)\n",
    "ax.hist(data, bins=bin_edges, color='lightblue', label='Data', edgecolor='blue', alpha=0.6, density=True)\n",
    "ax.plot(x_coord, y_f, color='red', label='Fit')\n",
    "ax.plot(x_coord, y_f_unb, color='red', label='Fit')\n",
    "ax.set_xlabel('Measures')\n",
    "ax.set_ylabel('N')\n",
    "ax.set_title('Fit')\n",
    "ax.legend()\n",
    "ax.grid(color='black', linestyle='--', linewidth=0.5, alpha=0.5)\n",
    "    \n",
    "plt.show()"
   ]
  },
  {
   "cell_type": "code",
   "execution_count": null,
   "metadata": {},
   "outputs": [],
   "source": [
    "# UNBINNED FIT\n",
    "my_cost_unbinned_func = UnbinnedNLL(data, model_function)\n",
    "my_minuit_unbinned = Minuit(my_cost_unbinned_func, mu = np.mean(data), sigma = np.std(data))\n",
    "my_minuit_unbinned.limits[\"mu\",\"sigma\"]=(0,None)\n",
    "my_minuit_unbinned.migrad()\n",
    "print (f'Convergenza del fit: {my_minuit_unbinned.valid}')\n",
    "display(my_minuit_unbinned)\n",
    "\n",
    "print ('Associated p-value: ', 1. - sci.chi2.cdf (my_minuit_unbinned.fval, df = my_minuit_unbinned.ndof))\n",
    "\n",
    "# PLOT\n",
    "x_coord = np.linspace(np.min(data), np.max(data), 10000)\n",
    "y_f_unb = []\n",
    "for i in range(len(x_coord)):\n",
    "    y_f_unb.append(model_function(x_coord[i], my_minuit_unbinned.values[0], my_minuit_unbinned.values[1]))\n",
    "\n",
    "fig, ax = plt.subplots(1,1)\n",
    "ax.hist(data, bins=bin_edges, color='lightblue', label='Data', edgecolor='blue', alpha=0.6, density=True)\n",
    "ax.plot(x_coord, y_f_unb, color='red', label='Fit')\n",
    "ax.set_xlabel('Measures')\n",
    "ax.set_ylabel('N')\n",
    "ax.set_title('Fit')\n",
    "ax.legend()\n",
    "ax.grid(color='black', linestyle='--', linewidth=0.5, alpha=0.5)\n",
    "    \n",
    "plt.show()"
   ]
  }
 ],
 "metadata": {
  "kernelspec": {
   "display_name": "Python 3",
   "language": "python",
   "name": "python3"
  },
  "language_info": {
   "codemirror_mode": {
    "name": "ipython",
    "version": 3
   },
   "file_extension": ".py",
   "mimetype": "text/x-python",
   "name": "python",
   "nbconvert_exporter": "python",
   "pygments_lexer": "ipython3",
   "version": "3.10.11"
  }
 },
 "nbformat": 4,
 "nbformat_minor": 2
}
